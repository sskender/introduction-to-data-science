{
 "cells": [
  {
   "cell_type": "markdown",
   "id": "a50c0f44",
   "metadata": {},
   "source": [
    "# Classifiers and training"
   ]
  },
  {
   "cell_type": "markdown",
   "id": "237ac12b",
   "metadata": {},
   "source": [
    "Import required libraries."
   ]
  },
  {
   "cell_type": "code",
   "execution_count": 3,
   "id": "dc3c7c20",
   "metadata": {},
   "outputs": [],
   "source": [
    "import time\n",
    "import scipy.io\n",
    "import mne\n",
    "import matplotlib.pyplot as plt\n",
    "import pandas as pd\n",
    "import numpy as np\n",
    "import antropy as ant\n",
    "import EntropyHub as EH\n",
    "from sklearn.model_selection import train_test_split\n",
    "from sklearn.svm import SVC\n",
    "from sklearn.metrics import accuracy_score"
   ]
  },
  {
   "cell_type": "markdown",
   "id": "57c4233a",
   "metadata": {},
   "source": [
    "Load calculated entropies from files."
   ]
  },
  {
   "cell_type": "code",
   "execution_count": 5,
   "id": "97c21b72",
   "metadata": {},
   "outputs": [],
   "source": [
    "AE_normal_matrix = np.load(\"data/AE_normal_matrix.npy\")\n",
    "PE_normal_matrix = np.load(\"data/PE_normal_matrix.npy\")\n",
    "SE_normal_matrix = np.load(\"data/SE_normal_matrix.npy\")\n",
    "FE_normal_matrix = np.load(\"data/FE_normal_matrix.npy\")\n",
    "\n",
    "AE_fatigue_matrix = np.load(\"data/AE_fatigue_matrix.npy\")\n",
    "PE_fatigue_matrix = np.load(\"data/PE_fatigue_matrix.npy\")\n",
    "SE_fatigue_matrix = np.load(\"data/SE_fatigue_matrix.npy\")\n",
    "FE_fatigue_matrix = np.load(\"data/FE_fatigue_matrix.npy\")"
   ]
  },
  {
   "cell_type": "code",
   "execution_count": null,
   "id": "d6e84706",
   "metadata": {},
   "outputs": [],
   "source": []
  }
 ],
 "metadata": {
  "kernelspec": {
   "display_name": "Python 3",
   "language": "python",
   "name": "python3"
  },
  "language_info": {
   "codemirror_mode": {
    "name": "ipython",
    "version": 3
   },
   "file_extension": ".py",
   "mimetype": "text/x-python",
   "name": "python",
   "nbconvert_exporter": "python",
   "pygments_lexer": "ipython3",
   "version": "3.9.7"
  }
 },
 "nbformat": 4,
 "nbformat_minor": 5
}
